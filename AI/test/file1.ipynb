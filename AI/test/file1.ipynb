{
 "cells": [
  {
   "cell_type": "code",
   "execution_count": 16,
   "metadata": {},
   "outputs": [],
   "source": [
    "import tensorflow as tf\n",
    "import numpy as np\n",
    "import pandas as pd\n",
    "import matplotlib.pyplot as plt"
   ]
  },
  {
   "cell_type": "code",
   "execution_count": 17,
   "metadata": {},
   "outputs": [
    {
     "name": "stdout",
     "output_type": "stream",
     "text": [
      "Num GPUs Available:  0\n"
     ]
    }
   ],
   "source": [
    "print(\"Num GPUs Available: \", len(tf.config.list_physical_devices('GPU')))# 0: cuda cdnn"
   ]
  },
  {
   "cell_type": "code",
   "execution_count": 18,
   "metadata": {},
   "outputs": [
    {
     "data": {
      "text/plain": [
       "(60000, 28, 28)"
      ]
     },
     "execution_count": 18,
     "metadata": {},
     "output_type": "execute_result"
    }
   ],
   "source": [
    "mnist = tf.keras.datasets.mnist\n",
    "\n",
    "(training_data, training_labels), (test_data, test_labels) = mnist.load_data()\n",
    "training_data, test_data = training_data / 255, test_data / 255\n",
    "training_data.shape"
   ]
  },
  {
   "cell_type": "code",
   "execution_count": 19,
   "metadata": {},
   "outputs": [],
   "source": [
    "jobs = [\n",
    "    {\"price\": 90,\n",
    "    \"ege\": 270,\n",
    "    \"age\": 30},\n",
    "    {\"price\": 40,\n",
    "    \"ege\": 285,\n",
    "    \"age\": 33},\n",
    "    {\"price\": 100,\n",
    "    \"ege\": 285,\n",
    "    \"age\": 22},\n",
    "    {\"price\": 20,\n",
    "    \"ege\": 160,\n",
    "    \"age\": 56}]\n",
    "condidates = [\n",
    "    {\"exp\": 10,\n",
    "    \"ege\": 270,\n",
    "    \"age\": 30,},\n",
    "    {\"exp\": 5,\n",
    "    \"ege\": 190,\n",
    "    \"age\": 50}]\n",
    "labels = np.array([1.0, 1.0, 0.7, 1.0, 0.2, 0.2, 0.1, 1.0])"
   ]
  },
  {
   "cell_type": "code",
   "execution_count": 20,
   "metadata": {},
   "outputs": [
    {
     "data": {
      "text/plain": [
       "array([[0.33333333, 1.        , 0.11111111, 0.03703704, 1.        ,\n",
       "        0.11111111],\n",
       "       [0.14814815, 1.05555556, 0.12222222, 0.03703704, 1.        ,\n",
       "        0.11111111],\n",
       "       [0.37037037, 1.05555556, 0.08148148, 0.03703704, 1.        ,\n",
       "        0.11111111],\n",
       "       [0.07407407, 0.59259259, 0.20740741, 0.03703704, 1.        ,\n",
       "        0.11111111],\n",
       "       [0.33333333, 1.        , 0.11111111, 0.01851852, 0.7037037 ,\n",
       "        0.18518519],\n",
       "       [0.14814815, 1.05555556, 0.12222222, 0.01851852, 0.7037037 ,\n",
       "        0.18518519],\n",
       "       [0.37037037, 1.05555556, 0.08148148, 0.01851852, 0.7037037 ,\n",
       "        0.18518519],\n",
       "       [0.07407407, 0.59259259, 0.20740741, 0.01851852, 0.7037037 ,\n",
       "        0.18518519]])"
      ]
     },
     "execution_count": 20,
     "metadata": {},
     "output_type": "execute_result"
    }
   ],
   "source": [
    "data = [list(i.values()) + list(j.values()) for j in condidates for i in jobs]\n",
    "data = np.array(data)/270\n",
    "data"
   ]
  },
  {
   "cell_type": "code",
   "execution_count": 21,
   "metadata": {},
   "outputs": [],
   "source": [
    "\n",
    "(training_data, training_labels) = (data, labels)"
   ]
  },
  {
   "cell_type": "code",
   "execution_count": 22,
   "metadata": {},
   "outputs": [
    {
     "name": "stdout",
     "output_type": "stream",
     "text": [
      "Model: \"sequential_2\"\n",
      "_________________________________________________________________\n",
      " Layer (type)                Output Shape              Param #   \n",
      "=================================================================\n",
      " dense_4 (Dense)             (None, 5)                 35        \n",
      "                                                                 \n",
      " dense_5 (Dense)             (None, 2)                 12        \n",
      "                                                                 \n",
      "=================================================================\n",
      "Total params: 47\n",
      "Trainable params: 47\n",
      "Non-trainable params: 0\n",
      "_________________________________________________________________\n"
     ]
    }
   ],
   "source": [
    "model = tf.keras.Sequential([\n",
    "    tf.keras.layers.Dense(5, activation=tf.nn.relu, input_shape=(6, )),\n",
    "    tf.keras.layers.Dense(2, activation=tf.nn.softmax)\n",
    "])\n",
    "\n",
    "\n",
    "model.compile(optimizer = tf.keras.optimizers.Adam(),\n",
    "              loss = 'binary_crossentropy',\n",
    "              metrics=['accuracy'])\n",
    "\n",
    "model.summary()"
   ]
  },
  {
   "cell_type": "code",
   "execution_count": 23,
   "metadata": {},
   "outputs": [
    {
     "name": "stdout",
     "output_type": "stream",
     "text": [
      "Epoch 1/50\n",
      "1/1 [==============================] - 0s 295ms/step - loss: 0.7508 - accuracy: 0.0000e+00\n",
      "Epoch 2/50\n",
      "1/1 [==============================] - 0s 3ms/step - loss: 0.7493 - accuracy: 0.0000e+00\n",
      "Epoch 3/50\n",
      "1/1 [==============================] - 0s 3ms/step - loss: 0.7479 - accuracy: 0.0000e+00\n",
      "Epoch 4/50\n",
      "1/1 [==============================] - 0s 3ms/step - loss: 0.7465 - accuracy: 0.0000e+00\n",
      "Epoch 5/50\n",
      "1/1 [==============================] - 0s 4ms/step - loss: 0.7451 - accuracy: 0.0000e+00\n",
      "Epoch 6/50\n",
      "1/1 [==============================] - 0s 3ms/step - loss: 0.7437 - accuracy: 0.0000e+00\n",
      "Epoch 7/50\n",
      "1/1 [==============================] - 0s 3ms/step - loss: 0.7424 - accuracy: 0.0000e+00\n",
      "Epoch 8/50\n",
      "1/1 [==============================] - 0s 3ms/step - loss: 0.7411 - accuracy: 0.0000e+00\n",
      "Epoch 9/50\n",
      "1/1 [==============================] - 0s 4ms/step - loss: 0.7399 - accuracy: 0.0000e+00\n",
      "Epoch 10/50\n",
      "1/1 [==============================] - 0s 3ms/step - loss: 0.7387 - accuracy: 0.0000e+00\n",
      "Epoch 11/50\n",
      "1/1 [==============================] - 0s 3ms/step - loss: 0.7375 - accuracy: 0.0000e+00\n",
      "Epoch 12/50\n",
      "1/1 [==============================] - 0s 3ms/step - loss: 0.7363 - accuracy: 0.0000e+00\n",
      "Epoch 13/50\n",
      "1/1 [==============================] - 0s 3ms/step - loss: 0.7352 - accuracy: 0.0000e+00\n",
      "Epoch 14/50\n",
      "1/1 [==============================] - 0s 3ms/step - loss: 0.7340 - accuracy: 0.0000e+00\n",
      "Epoch 15/50\n",
      "1/1 [==============================] - 0s 3ms/step - loss: 0.7329 - accuracy: 0.0000e+00\n",
      "Epoch 16/50\n",
      "1/1 [==============================] - 0s 2ms/step - loss: 0.7318 - accuracy: 0.0000e+00\n",
      "Epoch 17/50\n",
      "1/1 [==============================] - 0s 3ms/step - loss: 0.7308 - accuracy: 0.0000e+00\n",
      "Epoch 18/50\n",
      "1/1 [==============================] - 0s 3ms/step - loss: 0.7297 - accuracy: 0.0000e+00\n",
      "Epoch 19/50\n",
      "1/1 [==============================] - 0s 2ms/step - loss: 0.7287 - accuracy: 0.0000e+00\n",
      "Epoch 20/50\n",
      "1/1 [==============================] - 0s 3ms/step - loss: 0.7277 - accuracy: 0.0000e+00\n",
      "Epoch 21/50\n",
      "1/1 [==============================] - 0s 3ms/step - loss: 0.7267 - accuracy: 0.0000e+00\n",
      "Epoch 22/50\n",
      "1/1 [==============================] - 0s 3ms/step - loss: 0.7257 - accuracy: 0.0000e+00\n",
      "Epoch 23/50\n",
      "1/1 [==============================] - 0s 3ms/step - loss: 0.7248 - accuracy: 0.0000e+00\n",
      "Epoch 24/50\n",
      "1/1 [==============================] - 0s 3ms/step - loss: 0.7239 - accuracy: 0.0000e+00\n",
      "Epoch 25/50\n",
      "1/1 [==============================] - 0s 3ms/step - loss: 0.7230 - accuracy: 0.0000e+00\n",
      "Epoch 26/50\n",
      "1/1 [==============================] - 0s 3ms/step - loss: 0.7221 - accuracy: 0.0000e+00\n",
      "Epoch 27/50\n",
      "1/1 [==============================] - 0s 3ms/step - loss: 0.7212 - accuracy: 0.0000e+00\n",
      "Epoch 28/50\n",
      "1/1 [==============================] - 0s 3ms/step - loss: 0.7204 - accuracy: 0.0000e+00\n",
      "Epoch 29/50\n",
      "1/1 [==============================] - 0s 3ms/step - loss: 0.7196 - accuracy: 0.0000e+00\n",
      "Epoch 30/50\n",
      "1/1 [==============================] - 0s 3ms/step - loss: 0.7188 - accuracy: 0.0000e+00\n",
      "Epoch 31/50\n",
      "1/1 [==============================] - 0s 3ms/step - loss: 0.7180 - accuracy: 0.0000e+00\n",
      "Epoch 32/50\n",
      "1/1 [==============================] - 0s 4ms/step - loss: 0.7172 - accuracy: 0.0000e+00\n",
      "Epoch 33/50\n",
      "1/1 [==============================] - 0s 3ms/step - loss: 0.7165 - accuracy: 0.0000e+00\n",
      "Epoch 34/50\n",
      "1/1 [==============================] - 0s 3ms/step - loss: 0.7157 - accuracy: 0.0000e+00\n",
      "Epoch 35/50\n",
      "1/1 [==============================] - 0s 3ms/step - loss: 0.7151 - accuracy: 0.0000e+00\n",
      "Epoch 36/50\n",
      "1/1 [==============================] - 0s 3ms/step - loss: 0.7144 - accuracy: 0.0000e+00\n",
      "Epoch 37/50\n",
      "1/1 [==============================] - 0s 3ms/step - loss: 0.7137 - accuracy: 0.0000e+00\n",
      "Epoch 38/50\n",
      "1/1 [==============================] - 0s 3ms/step - loss: 0.7131 - accuracy: 0.0000e+00\n",
      "Epoch 39/50\n",
      "1/1 [==============================] - 0s 3ms/step - loss: 0.7125 - accuracy: 0.0000e+00\n",
      "Epoch 40/50\n",
      "1/1 [==============================] - 0s 4ms/step - loss: 0.7118 - accuracy: 0.0000e+00\n",
      "Epoch 41/50\n",
      "1/1 [==============================] - 0s 3ms/step - loss: 0.7113 - accuracy: 0.0000e+00\n",
      "Epoch 42/50\n",
      "1/1 [==============================] - 0s 3ms/step - loss: 0.7107 - accuracy: 0.0000e+00\n",
      "Epoch 43/50\n",
      "1/1 [==============================] - 0s 2ms/step - loss: 0.7101 - accuracy: 0.0000e+00\n",
      "Epoch 44/50\n",
      "1/1 [==============================] - 0s 3ms/step - loss: 0.7095 - accuracy: 0.0000e+00\n",
      "Epoch 45/50\n",
      "1/1 [==============================] - 0s 3ms/step - loss: 0.7090 - accuracy: 0.0000e+00\n",
      "Epoch 46/50\n",
      "1/1 [==============================] - 0s 3ms/step - loss: 0.7085 - accuracy: 0.0000e+00\n",
      "Epoch 47/50\n",
      "1/1 [==============================] - 0s 3ms/step - loss: 0.7080 - accuracy: 0.0000e+00\n",
      "Epoch 48/50\n",
      "1/1 [==============================] - 0s 3ms/step - loss: 0.7075 - accuracy: 0.0000e+00\n",
      "Epoch 49/50\n",
      "1/1 [==============================] - 0s 3ms/step - loss: 0.7070 - accuracy: 0.0000e+00\n",
      "Epoch 50/50\n",
      "1/1 [==============================] - 0s 3ms/step - loss: 0.7065 - accuracy: 0.0000e+00\n"
     ]
    }
   ],
   "source": [
    "history = model.fit(training_data, training_labels, epochs=50)\n",
    "\n",
    "# model.evaluate(test_data, test_labels)"
   ]
  },
  {
   "cell_type": "code",
   "execution_count": 24,
   "metadata": {},
   "outputs": [
    {
     "name": "stdout",
     "output_type": "stream",
     "text": [
      "1/1 [==============================] - 0s 43ms/step\n",
      "dict_keys(['loss', 'accuracy'])\n"
     ]
    }
   ],
   "source": [
    "predictions = model.predict([[0.2, 1, 0.1, 0.03, 1, 0.1]]) # test\n",
    "print(history.history.keys())"
   ]
  },
  {
   "cell_type": "code",
   "execution_count": 25,
   "metadata": {},
   "outputs": [
    {
     "data": {
      "image/png": "[encoded data removed]",
      "text/plain": [
       "<Figure size 640x480 with 1 Axes>"
      ]
     },
     "metadata": {},
     "output_type": "display_data"
    },
    {
     "name": "stdout",
     "output_type": "stream",
     "text": [
      "7\n",
      "[0.58635354 0.41364643]\n"
     ]
    }
   ],
   "source": [
    "np.set_printoptions(suppress=True)\n",
    "plt.plot(history.history['accuracy'])\n",
    "plt.title('model accuracy')\n",
    "plt.ylabel('accuracy')\n",
    "plt.xlabel('epoch')\n",
    "plt.legend(['train', 'test'], loc='upper left')\n",
    "plt.show()\n",
    "print(test_labels[0])\n",
    "print(predictions[0])"
   ]
  }
 ],
 "metadata": {
  "kernelspec": {
   "display_name": "Python 3.10.7 64-bit",
   "language": "python",
   "name": "python3"
  },
  "language_info": {
   "codemirror_mode": {
    "name": "ipython",
    "version": 3
   },
   "file_extension": ".py",
   "mimetype": "text/x-python",
   "name": "python",
   "nbconvert_exporter": "python",
   "pygments_lexer": "ipython3",
   "version": "3.10.7"
  },
  "orig_nbformat": 4,
  "vscode": {
   "interpreter": {
    "hash": "783492e7e9d9ccf2516670aa6750a5b24ea2e2d1f82ccf835bbd4e861f271177"
   }
  }
 },
 "nbformat": 4,
 "nbformat_minor": 2
}
